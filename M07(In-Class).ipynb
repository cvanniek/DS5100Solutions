{
 "cells": [
  {
   "cell_type": "markdown",
   "id": "555f760a-6320-4729-9f82-50b4737d5f1f",
   "metadata": {},
   "source": [
    "# In-Class Exercises:"
   ]
  },
  {
   "cell_type": "markdown",
   "id": "e33ebe76-918e-4952-a338-b6842d73ed54",
   "metadata": {},
   "source": [
    "## 7.1."
   ]
  },
  {
   "cell_type": "code",
   "execution_count": 2,
   "id": "c50bc5a3-a487-4b40-b444-de80b30da89f",
   "metadata": {},
   "outputs": [],
   "source": [
    "class myClass:\n",
    "    \n",
    "    \"\"\"\n",
    "    Example Exercises for 7.1.\n",
    "    \"\"\"\n",
    "    \n",
    "    att1 = \"foo\"\n",
    "    def __init__(self, att2):\n",
    "        self.att2 = att2\n",
    "\n",
    "    def add(self):\n",
    "        self.msg = self.att1 + ' ' + self.att2\n",
    "        print(self.msg)"
   ]
  },
  {
   "cell_type": "markdown",
   "id": "11aed198-3243-4786-8a4c-b2a28309e5e3",
   "metadata": {},
   "source": [
    "## 7.2."
   ]
  },
  {
   "cell_type": "code",
   "execution_count": 3,
   "id": "363eedf7-432f-4de3-8279-b043fc2da166",
   "metadata": {},
   "outputs": [
    {
     "name": "stdout",
     "output_type": "stream",
     "text": [
      "foo 9\n"
     ]
    }
   ],
   "source": [
    "classy = myClass('9')\n",
    "classy.add()"
   ]
  },
  {
   "cell_type": "markdown",
   "id": "8c283acf-a59d-4015-90bf-9b0647559488",
   "metadata": {},
   "source": [
    "## 7.3."
   ]
  },
  {
   "cell_type": "code",
   "execution_count": 11,
   "id": "da474614-b317-4ad7-aee1-ab3a8b0591fe",
   "metadata": {},
   "outputs": [],
   "source": [
    "import pandas as pd\n",
    "\n",
    "class Student:\n",
    "\n",
    "    def __init__(self, student_name, student_id):\n",
    "        self.name = student_name\n",
    "        self.id = student_id\n",
    "        self.grades = pd.Series(dtype=float)\n",
    "\n",
    "    def add_grade(self, assignment, grade):\n",
    "        self.grades.loc[assignment] = grade\n",
    "\n",
    "    def show_grades(self):\n",
    "        self.grades.plot.bar(title=f\"Grades for {self.name} ({self.id})\")\n"
   ]
  },
  {
   "cell_type": "markdown",
   "id": "329d40af-d9df-4a91-b583-abc81ba63c37",
   "metadata": {},
   "source": [
    "## 7.3.a."
   ]
  },
  {
   "cell_type": "code",
   "execution_count": 13,
   "id": "429f71be-a1d4-4343-82d9-63722dc3578c",
   "metadata": {},
   "outputs": [
    {
     "data": {
      "image/png": "[encoded data removed]",
      "text/plain": [
       "<Figure size 640x480 with 1 Axes>"
      ]
     },
     "metadata": {},
     "output_type": "display_data"
    }
   ],
   "source": [
    "# Create an instance of Student\n",
    "student = Student('Chris', 27268)\n",
    "\n",
    "# Add grades to the student instance\n",
    "student.add_grade(\"HW1\", 100)\n",
    "student.add_grade(\"HW2\", 98)\n",
    "student.add_grade(\"HW3\", 99)\n",
    "student.add_grade(\"HW4\", 96)\n",
    "\n",
    "# Show grades\n",
    "student.show_grades()"
   ]
  },
  {
   "cell_type": "markdown",
   "id": "e331ab05-0b85-4bef-bc34-5dcec87f3531",
   "metadata": {},
   "source": [
    "## 7.4."
   ]
  },
  {
   "cell_type": "code",
   "execution_count": 16,
   "id": "59ca028b-1295-4d02-83a0-a2f5937e7790",
   "metadata": {},
   "outputs": [],
   "source": [
    "class VM:\n",
    "    def __init__(self, instance_size, num_vcpus, memory, disk_space):\n",
    "        self.instance_size = instance_size\n",
    "        self.num_vcpus = num_vcpus\n",
    "        self.memory = memory\n",
    "        self.disk_space = disk_space\n",
    "\n",
    "    def add_disk_space(self, amt_to_add):\n",
    "        self.disk_space += amt_to_add\n",
    "\n",
    "    def has_enough_disk_space(self, amt_required):\n",
    "        if self.disk_space >= amt_required:\n",
    "            print(f\"Enough space available. Current disk space: {self.disk_space} TB\")\n",
    "            return True\n",
    "        else:\n",
    "            print(f\"Not enough space. Current disk space: {self.disk_space} TB, required: {amt_required} TB\")\n",
    "            return False\n",
    "\n"
   ]
  },
  {
   "cell_type": "markdown",
   "id": "f97047a9-ab8a-4f62-b447-c17710d61a51",
   "metadata": {},
   "source": [
    "## 7.5."
   ]
  },
  {
   "cell_type": "code",
   "execution_count": 17,
   "id": "cf9b5e82-081a-424a-be16-e9540d160fff",
   "metadata": {},
   "outputs": [
    {
     "name": "stdout",
     "output_type": "stream",
     "text": [
      "Updated disk space: 4.0 TB\n",
      "Not enough space. Current disk space: 4.0 TB, required: 10.0 TB\n",
      "Has enough space for 10.0 TB: False\n"
     ]
    }
   ],
   "source": [
    "# Instantiate a V3 object with the given attribute values\n",
    "vm3 = VM('large', 32, 256, 2.0)\n",
    "\n",
    "# Add 2.0 TB disk space to the instance\n",
    "vm3.add_disk_space(2.0)\n",
    "\n",
    "# Display the updated disk space using the dot operator\n",
    "print(f\"Updated disk space: {vm3.disk_space} TB\")\n",
    "\n",
    "# See if the instance has enough disk space, using a request of 10.0 TB\n",
    "required_space = 10.0\n",
    "has_space = vm3.has_enough_disk_space(required_space)\n",
    "print(f\"Has enough space for {required_space} TB: {has_space}\")"
   ]
  },
  {
   "cell_type": "markdown",
   "id": "d682f8ce-52e2-4a89-9040-43b3f1c9fed4",
   "metadata": {},
   "source": [
    "## 7.6."
   ]
  },
  {
   "cell_type": "code",
   "execution_count": 18,
   "id": "488e1936-d905-42e3-8ef2-d0723926b015",
   "metadata": {},
   "outputs": [
    {
     "name": "stdout",
     "output_type": "stream",
     "text": [
      "Area: 78.54\n",
      "Circumference: 31.42\n"
     ]
    }
   ],
   "source": [
    "from math import pi\n",
    "\n",
    "class Circle:\n",
    "    def __init__(self, radius):\n",
    "        self.radius = radius\n",
    "        self.area = round(self.compute_area(), 2)\n",
    "        self.circumference = round(self.compute_circumference(), 2)\n",
    "\n",
    "    def compute_area(self):\n",
    "        return pi * (self.radius ** 2)\n",
    "\n",
    "    def compute_circumference(self):\n",
    "        return 2 * pi * self.radius\n",
    "\n",
    "    def show_values(self):\n",
    "        print(f\"Area: {self.area}\")\n",
    "        print(f\"Circumference: {self.circumference}\")\n",
    "\n",
    "# Example usage:\n",
    "circle = Circle(5)\n",
    "circle.show_values()\n"
   ]
  },
  {
   "cell_type": "markdown",
   "id": "871e0d95-4bb5-4997-b986-daeae2c80e63",
   "metadata": {},
   "source": [
    "## 7.7."
   ]
  },
  {
   "cell_type": "code",
   "execution_count": null,
   "id": "07a8a335-f4f3-420a-842b-84869356cdb0",
   "metadata": {},
   "outputs": [],
   "source": []
  },
  {
   "cell_type": "markdown",
   "id": "3b23e16e-b602-4a5a-a88b-f24295bd8aa1",
   "metadata": {},
   "source": [
    "## 7.8."
   ]
  },
  {
   "cell_type": "code",
   "execution_count": null,
   "id": "7ec0a1fc-ef30-4ffe-8195-8a83cb10fb2c",
   "metadata": {},
   "outputs": [],
   "source": []
  },
  {
   "cell_type": "markdown",
   "id": "b13bb31d-43c5-48d8-a7f6-3a99d8c949a8",
   "metadata": {},
   "source": [
    "## 7.9."
   ]
  },
  {
   "cell_type": "code",
   "execution_count": null,
   "id": "596c2559-aa54-4879-8e1b-b8f4c94921f8",
   "metadata": {},
   "outputs": [],
   "source": []
  },
  {
   "cell_type": "markdown",
   "id": "3f43dd35-1a9e-4665-9a1d-375b80fa4e23",
   "metadata": {},
   "source": [
    "## 7.10."
   ]
  },
  {
   "cell_type": "code",
   "execution_count": null,
   "id": "f1c97f1e-3807-4793-88f5-a8cd27b036b0",
   "metadata": {},
   "outputs": [],
   "source": []
  }
 ],
 "metadata": {
  "kernelspec": {
   "display_name": "Python 3 (ipykernel)",
   "language": "python",
   "name": "python3"
  },
  "language_info": {
   "codemirror_mode": {
    "name": "ipython",
    "version": 3
   },
   "file_extension": ".py",
   "mimetype": "text/x-python",
   "name": "python",
   "nbconvert_exporter": "python",
   "pygments_lexer": "ipython3",
   "version": "3.12.4"
  }
 },
 "nbformat": 4,
 "nbformat_minor": 5
}

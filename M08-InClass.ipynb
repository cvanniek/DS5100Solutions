{
 "cells": [
  {
   "cell_type": "markdown",
   "id": "f184f507-1977-4bc7-a171-1e1c4ad377c8",
   "metadata": {},
   "source": [
    "# M08 - In-Class:"
   ]
  },
  {
   "cell_type": "markdown",
   "id": "dc0a39ab-cbf6-4c6d-9b86-42cd0d4d298e",
   "metadata": {},
   "source": [
    "## 8.1."
   ]
  },
  {
   "cell_type": "code",
   "execution_count": 5,
   "id": "b20894c9-ef9d-4786-9576-4038b516669e",
   "metadata": {},
   "outputs": [
    {
     "name": "stdout",
     "output_type": "stream",
     "text": [
      "Oh no buddy. You divided by zero...\n"
     ]
    }
   ],
   "source": [
    "x = 3\n",
    "y = 0\n",
    "try:\n",
    "    z = x/y\n",
    "    print(z)\n",
    "except ZeroDivisionError as e:\n",
    "        print(\"Oh no buddy. You divided by zero...\")"
   ]
  },
  {
   "cell_type": "markdown",
   "id": "6d94a035-dd51-4035-a824-2cc549d47e84",
   "metadata": {},
   "source": [
    "## 8.2."
   ]
  },
  {
   "cell_type": "code",
   "execution_count": 9,
   "id": "340d66ab-ea41-45a3-b4a0-f78e8b663fcf",
   "metadata": {},
   "outputs": [],
   "source": [
    "x2 = 2 + 2 == 4\n",
    "assert x2, \"This is not 1980\""
   ]
  },
  {
   "cell_type": "code",
   "execution_count": 10,
   "id": "af403437-fb70-4dfb-b524-5b8f4e71a7c6",
   "metadata": {},
   "outputs": [
    {
     "ename": "AssertionError",
     "evalue": "",
     "output_type": "error",
     "traceback": [
      "\u001b[1;31m---------------------------------------------------------------------------\u001b[0m",
      "\u001b[1;31mAssertionError\u001b[0m                            Traceback (most recent call last)",
      "Cell \u001b[1;32mIn[10], line 2\u001b[0m\n\u001b[0;32m      1\u001b[0m x3 \u001b[38;5;241m=\u001b[39m \u001b[38;5;241m2\u001b[39m \u001b[38;5;241m+\u001b[39m \u001b[38;5;241m2\u001b[39m \u001b[38;5;241m==\u001b[39m \u001b[38;5;241m5\u001b[39m\n\u001b[1;32m----> 2\u001b[0m \u001b[38;5;28;01massert\u001b[39;00m x3\n",
      "\u001b[1;31mAssertionError\u001b[0m: "
     ]
    }
   ],
   "source": [
    "x3 = 2 + 2 == 5\n",
    "assert x3"
   ]
  },
  {
   "cell_type": "markdown",
   "id": "87d62af2-74aa-49c0-9144-32e406a93b62",
   "metadata": {},
   "source": [
    "## 8.3."
   ]
  },
  {
   "cell_type": "code",
   "execution_count": 13,
   "id": "c1a79ac6-7ef8-469a-af33-5fe758281048",
   "metadata": {},
   "outputs": [
    {
     "name": "stdout",
     "output_type": "stream",
     "text": [
      "6.283185307179586\n"
     ]
    },
    {
     "ename": "AssertionError",
     "evalue": "Test 1 Failed",
     "output_type": "error",
     "traceback": [
      "\u001b[1;31m---------------------------------------------------------------------------\u001b[0m",
      "\u001b[1;31mAssertionError\u001b[0m                            Traceback (most recent call last)",
      "Cell \u001b[1;32mIn[13], line 5\u001b[0m\n\u001b[0;32m      2\u001b[0m \u001b[38;5;28;01mdef\u001b[39;00m \u001b[38;5;21marea\u001b[39m(r):\n\u001b[0;32m      3\u001b[0m     \u001b[38;5;28mprint\u001b[39m(\u001b[38;5;241m2\u001b[39m\u001b[38;5;241m*\u001b[39mpi\u001b[38;5;241m*\u001b[39m r\u001b[38;5;241m*\u001b[39m\u001b[38;5;241m*\u001b[39m\u001b[38;5;241m2\u001b[39m)\n\u001b[1;32m----> 5\u001b[0m \u001b[38;5;28;01massert\u001b[39;00m \u001b[38;5;28misinstance\u001b[39m(area(\u001b[38;5;241m1\u001b[39m), \u001b[38;5;28mfloat\u001b[39m), \u001b[38;5;124m\"\u001b[39m\u001b[38;5;124mTest 1 Failed\u001b[39m\u001b[38;5;124m\"\u001b[39m\n\u001b[0;32m      6\u001b[0m \u001b[38;5;28;01massert\u001b[39;00m area(\u001b[38;5;241m0\u001b[39m) \u001b[38;5;241m==\u001b[39m \u001b[38;5;241m0\u001b[39m, \u001b[38;5;124m'\u001b[39m\u001b[38;5;124mTest 2 failed\u001b[39m\u001b[38;5;124m'\u001b[39m\n\u001b[0;32m      7\u001b[0m \u001b[38;5;28;01massert\u001b[39;00m math\u001b[38;5;241m.\u001b[39misclose(area(\u001b[38;5;241m5\u001b[39m), \u001b[38;5;241m78.5\u001b[39m, abs_tol\u001b[38;5;241m=\u001b[39m\u001b[38;5;241m0.1\u001b[39m), \u001b[38;5;124m'\u001b[39m\u001b[38;5;124mTest 3 failed\u001b[39m\u001b[38;5;124m'\u001b[39m\n",
      "\u001b[1;31mAssertionError\u001b[0m: Test 1 Failed"
     ]
    }
   ],
   "source": [
    "from math import pi as pi\n",
    "def area(r):\n",
    "    print(2*pi* r**2)\n",
    "\n",
    "assert isinstance(area(1), float), \"Test 1 Failed\"\n",
    "assert area(0) == 0, 'Test 2 failed'\n",
    "assert math.isclose(area(5), 78.5, abs_tol=0.1), 'Test 3 failed'"
   ]
  },
  {
   "cell_type": "markdown",
   "id": "92385fac-fedf-443d-9012-050f68589a16",
   "metadata": {},
   "source": [
    "## 8.4."
   ]
  },
  {
   "cell_type": "code",
   "execution_count": 22,
   "id": "e7229d98-a123-4277-a30a-69226100e437",
   "metadata": {},
   "outputs": [],
   "source": [
    "class Student:\n",
    "    def __init__(self, name, course_names=None):\n",
    "        self.name = name\n",
    "        self.num_courses = 0\n",
    "        self.courses = [] if course_names is None else course_names\n",
    "        self.num_courses = len(self.courses)\n",
    "    \n",
    "    def enroll_in_course(self, course_name):\n",
    "        self.courses.append(course_name)\n",
    "        self.num_courses += 1\n",
    "    \n",
    "    def unenroll_in_course(self, course_name):\n",
    "        if course_name in self.courses:\n",
    "            self.courses.remove(course_name)\n",
    "            self.num_courses -= 1\n",
    "        else:\n",
    "            print(\"Student was not enrolled in that course\")\n",
    "            raise ValueError(\"Student can't be in that course\")\n"
   ]
  },
  {
   "cell_type": "code",
   "execution_count": 23,
   "id": "eab93f74-71ce-44eb-8e4a-111e92e220cc",
   "metadata": {},
   "outputs": [
    {
     "name": "stderr",
     "output_type": "stream",
     "text": [
      "C:\\Users\\Chris\\AppData\\Roaming\\jupyter\\runtime\\kernel-6a4e97e7-4eb1-4165-9731-c5e9f12b4091 (unittest.loader._FailedTest.C:\\Users\\Chris\\AppData\\Roaming\\jupyter\\runtime\\kernel-6a4e97e7-4eb1-4165-9731-c5e9f12b4091) ... ERROR\n",
      "\n",
      "======================================================================\n",
      "ERROR: C:\\Users\\Chris\\AppData\\Roaming\\jupyter\\runtime\\kernel-6a4e97e7-4eb1-4165-9731-c5e9f12b4091 (unittest.loader._FailedTest.C:\\Users\\Chris\\AppData\\Roaming\\jupyter\\runtime\\kernel-6a4e97e7-4eb1-4165-9731-c5e9f12b4091)\n",
      "----------------------------------------------------------------------\n",
      "AttributeError: module '__main__' has no attribute 'C:\\Users\\Chris\\AppData\\Roaming\\jupyter\\runtime\\kernel-6a4e97e7-4eb1-4165-9731-c5e9f12b4091'\n",
      "\n",
      "----------------------------------------------------------------------\n",
      "Ran 1 test in 0.002s\n",
      "\n",
      "FAILED (errors=1)\n"
     ]
    },
    {
     "ename": "SystemExit",
     "evalue": "1",
     "output_type": "error",
     "traceback": [
      "An exception has occurred, use %tb to see the full traceback.\n",
      "\u001b[1;31mSystemExit\u001b[0m\u001b[1;31m:\u001b[0m 1\n"
     ]
    },
    {
     "name": "stderr",
     "output_type": "stream",
     "text": [
      "C:\\Users\\Chris\\AppData\\Local\\Packages\\PythonSoftwareFoundation.Python.3.12_qbz5n2kfra8p0\\LocalCache\\local-packages\\Python312\\site-packages\\IPython\\core\\interactiveshell.py:3585: UserWarning: To exit: use 'exit', 'quit', or Ctrl-D.\n",
      "  warn(\"To exit: use 'exit', 'quit', or Ctrl-D.\", stacklevel=1)\n"
     ]
    }
   ],
   "source": [
    "from student import Student\n",
    "import unittest\n",
    "\n",
    "class EnrollInTestCase(unittest.TestCase):\n",
    "    \n",
    "    def test_01_is_numCoursesIncremented_correctly(self):\n",
    "        student = Student('Katherine', ['DS 5100'])\n",
    "        student.enroll_in_course('CS 5777')  # Add a course\n",
    "        actual = student.num_courses\n",
    "        expected = 2  # There should be 2 courses now\n",
    "        self.assertEqual(actual, expected)\n",
    "\n",
    "    def test_02_is_course_removed(self):\n",
    "        student = Student('Katherine', ['DS 5100'])\n",
    "        course = 'CS 5777'\n",
    "        student.enroll_in_course(course)  # Enroll the course\n",
    "        student.unenroll_in_course(course)  # Unenroll the course\n",
    "        actual = course in student.courses\n",
    "        expected = False  # Course should not be in the list\n",
    "        self.assertFalse(actual, expected)\n",
    "\n",
    "    def test_03_is_course_not_added(self):\n",
    "        student = Student('Katherine', ['DS 5100'])\n",
    "        course = 'CS 5650'\n",
    "        actual = student.num_courses\n",
    "        expected = 1  # There should be no change in the number of courses\n",
    "        self.assertEqual(actual, expected)\n",
    "\n",
    "if __name__ == '__main__':\n",
    "    unittest.main(verbosity=2)\n"
   ]
  },
  {
   "cell_type": "markdown",
   "id": "3c53fb91-abf3-426b-b87c-7ca75da46e99",
   "metadata": {},
   "source": [
    "## 8.5."
   ]
  },
  {
   "cell_type": "code",
   "execution_count": 24,
   "id": "eed18d97-cc8d-4edc-811e-a3504cd68092",
   "metadata": {},
   "outputs": [],
   "source": [
    "class Car:\n",
    "    body_types = [\"suv\", \"crossover\", \"sedan\", \"hatchback\", \"sport\"]\n",
    "    engine_types = [\"electric\", \"gas\", \"diesel\", \"hybrid\"]\n",
    "\n",
    "    def __init__(self, body_type, engine_type):\n",
    "        if body_type not in self.body_types:\n",
    "            raise ValueError(\"Invalid body type.\")\n",
    "        if engine_type not in self.engine_types:\n",
    "            raise ValueError(\"Invalid engine type.\")\n",
    "        self.body_type = body_type\n",
    "        self.engine_type = engine_type\n",
    "\n",
    "    def describe_car(self):\n",
    "        return f\"{self.engine_type} {self.body_type}\"\n",
    "\n",
    "class Subaru(Car):\n",
    "    def __init__(self, body_type, engine_type, year, model, trim=None):\n",
    "        self.year = year\n",
    "        self.model = model\n",
    "        self.trim = trim\n",
    "        Car.__init__(self, body_type, engine_type)\n",
    "        # super().__init__(body_type, engine_type) # Another option\n",
    "\n",
    "    def describe(self):\n",
    "        return f\"{self.year} {self.model} {self.trim} ({self.describe_car()})\"\n"
   ]
  },
  {
   "cell_type": "code",
   "execution_count": 25,
   "id": "c0dbff44-f3bd-45c2-8ba8-7324614d0ea9",
   "metadata": {},
   "outputs": [
    {
     "name": "stdout",
     "output_type": "stream",
     "text": [
      "2022 outback sport (gas crossover)\n"
     ]
    }
   ],
   "source": [
    "my_args = dict(\n",
    "    body_type = 'crossover',\n",
    "    engine_type = 'gas',\n",
    "    year = '2022',\n",
    "    model = 'outback',\n",
    "    trim = 'sport'\n",
    ")\n",
    "\n",
    "my_car = Subaru(**my_args)\n",
    "\n",
    "print(my_car.describe())\n",
    "\n",
    "try:\n",
    "    my_car = Subaru(**my_args)\n",
    "except ValueError as e:\n",
    "    print(e)\n"
   ]
  },
  {
   "cell_type": "code",
   "execution_count": null,
   "id": "6a08b600-d946-4ff7-bc63-d72ef2282c4d",
   "metadata": {},
   "outputs": [],
   "source": [
    "\n"
   ]
  },
  {
   "cell_type": "code",
   "execution_count": null,
   "id": "afbe87b5-91dc-4642-ae37-85f7e74a0aaf",
   "metadata": {},
   "outputs": [],
   "source": []
  },
  {
   "cell_type": "code",
   "execution_count": null,
   "id": "79568418-16e7-477f-b3b6-c904872d685b",
   "metadata": {},
   "outputs": [],
   "source": []
  }
 ],
 "metadata": {
  "kernelspec": {
   "display_name": "Python 3 (ipykernel)",
   "language": "python",
   "name": "python3"
  },
  "language_info": {
   "codemirror_mode": {
    "name": "ipython",
    "version": 3
   },
   "file_extension": ".py",
   "mimetype": "text/x-python",
   "name": "python",
   "nbconvert_exporter": "python",
   "pygments_lexer": "ipython3",
   "version": "3.12.4"
  }
 },
 "nbformat": 4,
 "nbformat_minor": 5
}

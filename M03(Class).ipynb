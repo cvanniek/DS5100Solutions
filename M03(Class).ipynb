{
 "cells": [
  {
   "cell_type": "markdown",
   "id": "45a9e3ae-a8a4-4903-bb5c-b0073eb5a6b2",
   "metadata": {},
   "source": [
    "# Personal Notes (Exercises below):"
   ]
  },
  {
   "cell_type": "markdown",
   "id": "40451fd3-6187-45d8-bd88-d8edb2cde8c2",
   "metadata": {},
   "source": [
    "Stirng Indexing:"
   ]
  },
  {
   "cell_type": "code",
   "execution_count": 3,
   "id": "93d5cfe8-d3fb-4c40-af04-4c769a993ffb",
   "metadata": {},
   "outputs": [],
   "source": [
    "my_string = \"I AM A STRING\""
   ]
  },
  {
   "cell_type": "code",
   "execution_count": 4,
   "id": "a4e4aedc-7bbd-406e-9179-01c2e1ba35d8",
   "metadata": {},
   "outputs": [
    {
     "name": "stdout",
     "output_type": "stream",
     "text": [
      "A\n"
     ]
    }
   ],
   "source": [
    "print(my_string[5])"
   ]
  },
  {
   "cell_type": "code",
   "execution_count": 14,
   "id": "844776f5-2c1a-42fb-8fbb-19564fa554d8",
   "metadata": {},
   "outputs": [
    {
     "name": "stdout",
     "output_type": "stream",
     "text": [
      " \n"
     ]
    }
   ],
   "source": [
    "print(my_string[6])"
   ]
  },
  {
   "cell_type": "code",
   "execution_count": 6,
   "id": "1b32dd63-4f1e-4095-a2d1-01130bfe7a8c",
   "metadata": {},
   "outputs": [
    {
     "name": "stdout",
     "output_type": "stream",
     "text": [
      "T\n"
     ]
    }
   ],
   "source": [
    "print(my_string[-5])"
   ]
  },
  {
   "cell_type": "code",
   "execution_count": 7,
   "id": "99bf98e2-1e1a-4a81-ab3d-9a4398cf017f",
   "metadata": {},
   "outputs": [
    {
     "name": "stdout",
     "output_type": "stream",
     "text": [
      "[2, 3, 4]\n"
     ]
    }
   ],
   "source": [
    "x = [1,2,3,4]\n",
    "print(x[1:7])"
   ]
  },
  {
   "cell_type": "markdown",
   "id": "44008b55-f6a7-4d07-b867-cf3597f8fefc",
   "metadata": {},
   "source": [
    "Can make parameters for slicing larger than the last index."
   ]
  },
  {
   "cell_type": "markdown",
   "id": "866f4114-b206-426a-9a2e-679940ec419b",
   "metadata": {},
   "source": [
    "Control Structures:"
   ]
  },
  {
   "cell_type": "code",
   "execution_count": 13,
   "id": "ce5a9a98-c290-4e5c-9d99-9d287acd24cb",
   "metadata": {},
   "outputs": [
    {
     "name": "stdout",
     "output_type": "stream",
     "text": [
      "X is greater than Y\n"
     ]
    }
   ],
   "source": [
    "x = 1\n",
    "y = 0.5\n",
    "if (x > y): \n",
    "    print(\"X is greater than Y\")\n",
    "else:\n",
    "    print(\"Smaller\")\n"
   ]
  },
  {
   "cell_type": "markdown",
   "id": "e7061990-ddff-4bd8-9a00-20710b7ddb2f",
   "metadata": {},
   "source": [
    "NB: Make sure to be descriptive when naming variables. Rather use underscores than camel case. Camel case is used for function names."
   ]
  },
  {
   "cell_type": "markdown",
   "id": "a2c83a27-efae-43a5-abd3-1da9289d902d",
   "metadata": {},
   "source": [
    "Conditions -> if and else"
   ]
  },
  {
   "cell_type": "markdown",
   "id": "66222bb0-67a0-44a1-a157-75bdb5298d8d",
   "metadata": {},
   "source": [
    "Loops -> while and for loops"
   ]
  },
  {
   "cell_type": "markdown",
   "id": "1df3c46b-1f96-4af8-963b-d7ba3ac42951",
   "metadata": {},
   "source": [
    "In data science you can replace conditional statements with the search statement if you have data structures that support it."
   ]
  },
  {
   "cell_type": "markdown",
   "id": "13cfd149-ad7e-41b3-82be-560a861ae980",
   "metadata": {},
   "source": [
    "Loops:"
   ]
  },
  {
   "cell_type": "markdown",
   "id": "1adadb00-63a8-497a-be91-12124356303d",
   "metadata": {},
   "source": [
    "break -> will exit the loop altogether."
   ]
  },
  {
   "cell_type": "markdown",
   "id": "400c7372-70ba-4a74-a0e6-e9996036e948",
   "metadata": {},
   "source": [
    "continue -> will stop the current iteration."
   ]
  },
  {
   "cell_type": "code",
   "execution_count": 15,
   "id": "e62db62c-3911-4337-9de8-7be206a59ba5",
   "metadata": {},
   "outputs": [
    {
     "name": "stdout",
     "output_type": "stream",
     "text": [
      "charlottesville\n",
      "new york\n",
      "boston\n"
     ]
    }
   ],
   "source": [
    "cities = [\"Charlottesville\", \"New York\", \"Boston\"]\n",
    "\n",
    "for city in cities:\n",
    "    city = city.lower()\n",
    "    print(city)"
   ]
  },
  {
   "cell_type": "code",
   "execution_count": 19,
   "id": "a5cb1778-923a-405e-b71a-980d60617e85",
   "metadata": {},
   "outputs": [
    {
     "name": "stdout",
     "output_type": "stream",
     "text": [
      "charlottesville\n",
      "new york\n",
      "bos\n",
      "la\n"
     ]
    }
   ],
   "source": [
    "cities = ['Charlottesville','New York','SF','BOS','LA']\n",
    "\n",
    "for city in cities:\n",
    "    if city == 'SF':\n",
    "        continue # this will stop this if iteration.\n",
    "    city = city.lower()\n",
    "    print(city)\n",
    "    "
   ]
  },
  {
   "cell_type": "code",
   "execution_count": 20,
   "id": "ceab5812-d7c4-487c-9335-ecafea59ec8d",
   "metadata": {},
   "outputs": [
    {
     "name": "stdout",
     "output_type": "stream",
     "text": [
      "CHARLOTTESVILLE\n",
      "NEW YORK\n",
      "BOSTON\n"
     ]
    }
   ],
   "source": [
    "cities = [\"Charlottesville\", \"New York\", \"Boston\"]\n",
    "\n",
    "for city in cities:\n",
    "    city = city.upper()\n",
    "    print(city)"
   ]
  },
  {
   "cell_type": "markdown",
   "id": "5349af37-1f56-4ee5-a704-3f151e6e8799",
   "metadata": {},
   "source": [
    "# M03 In Class Exercises:"
   ]
  },
  {
   "cell_type": "markdown",
   "id": "fc9cc9b4-e6ec-499c-ae69-9639c6cec7d9",
   "metadata": {},
   "source": [
    "Example 3.1."
   ]
  },
  {
   "cell_type": "markdown",
   "id": "06b3adc1-28e7-4ee5-bca8-8db9056df4f3",
   "metadata": {},
   "source": [
    "What prints in the example if val = 5?\n"
   ]
  },
  {
   "cell_type": "code",
   "execution_count": 22,
   "id": "633158fc-d211-4c6a-93dc-106140b70ce0",
   "metadata": {},
   "outputs": [],
   "source": [
    "val = 5\n",
    "if -10 < val < -5:\n",
    "    print(\"bucket 1\")\n",
    "elif -5 <= val < -2:\n",
    "    print(\"bucket 2\")\n",
    "elif val == -2:\n",
    "    print(\"bucket 3\")"
   ]
  },
  {
   "cell_type": "markdown",
   "id": "ea720786-c0c6-4968-8184-a904b1e29554",
   "metadata": {},
   "source": [
    "Nothing will print."
   ]
  },
  {
   "cell_type": "markdown",
   "id": "0dbef583-4278-4511-aac5-8018180ea546",
   "metadata": {},
   "source": [
    "How would you fix the problem:\n",
    "With an else statement."
   ]
  },
  {
   "cell_type": "code",
   "execution_count": 23,
   "id": "10aec479-7676-460e-94c5-f9c1075b1f0b",
   "metadata": {},
   "outputs": [
    {
     "name": "stdout",
     "output_type": "stream",
     "text": [
      "Value is outside the parameters.\n"
     ]
    }
   ],
   "source": [
    "val = 5\n",
    "if -10 < val < -5:\n",
    "    print(\"bucket 1\")\n",
    "elif -5 <= val < -2:\n",
    "    print(\"bucket 2\")\n",
    "elif val == -2:\n",
    "    print(\"bucket 3\")\n",
    "else:\n",
    "    print(\"Value is outside the parameters.\")"
   ]
  },
  {
   "cell_type": "markdown",
   "id": "5f0ec20f-703e-4854-9600-b9b38117084f",
   "metadata": {},
   "source": [
    "Example 3.2."
   ]
  },
  {
   "cell_type": "code",
   "execution_count": 27,
   "id": "7ab3f2c8-5447-40c9-9060-4993ad32c612",
   "metadata": {},
   "outputs": [
    {
     "name": "stdout",
     "output_type": "stream",
     "text": [
      "8\n",
      "-2\n",
      "max_value\n",
      "0\n",
      "5\n",
      "6\n"
     ]
    }
   ],
   "source": [
    "xx = [-2, 8, 0, 5, 6]\n",
    "max_val = max(xx)\n",
    "print(max_val)\n",
    "\n",
    "for i in xx:\n",
    "    if i < max_val:\n",
    "        print(i)\n",
    "    else: \n",
    "        print(\"max_value\")"
   ]
  },
  {
   "cell_type": "markdown",
   "id": "c3cb7cdb-9bcd-41ef-9715-c23bb5d911af",
   "metadata": {},
   "source": [
    "Example 3.3."
   ]
  },
  {
   "cell_type": "code",
   "execution_count": 1,
   "id": "235a76a8-478d-49e6-8516-b5d3b525d3af",
   "metadata": {},
   "outputs": [
    {
     "name": "stdout",
     "output_type": "stream",
     "text": [
      "0\n",
      "10\n",
      "20\n",
      "30\n",
      "40\n",
      "50\n",
      "60\n",
      "70\n",
      "80\n",
      "90\n"
     ]
    }
   ],
   "source": [
    "it = 0\n",
    "max_iter = 100\n",
    "\n",
    "while it < max_iter:\n",
    "    if (it == 0) or (it % 10 == 0):\n",
    "        print(it)\n",
    "    it += 1"
   ]
  },
  {
   "cell_type": "markdown",
   "id": "c3284259-4b97-48f4-acef-e41f468914ee",
   "metadata": {},
   "source": [
    "Example 3.4."
   ]
  },
  {
   "cell_type": "code",
   "execution_count": 2,
   "id": "3574c82d-72e5-4e6e-a7ea-506a4a4c074c",
   "metadata": {},
   "outputs": [
    {
     "name": "stdout",
     "output_type": "stream",
     "text": [
      "chris\n",
      "kurt\n",
      "samuel\n",
      "alex\n"
     ]
    }
   ],
   "source": [
    "list1 = [\"Chris\", \"Kurt\", \"Samuel\", \"Alex\"]\n",
    "for i in list1:\n",
    "    i = i.lower()\n",
    "    print(i)"
   ]
  },
  {
   "cell_type": "code",
   "execution_count": 3,
   "id": "e18a5456-e8cc-4782-8daf-3d1708491641",
   "metadata": {},
   "outputs": [
    {
     "name": "stdout",
     "output_type": "stream",
     "text": [
      "chris\n",
      "kurt\n",
      "samuel\n",
      "alex\n"
     ]
    }
   ],
   "source": [
    "# Another way to do it:\n",
    "for name in list1:\n",
    "    print(name.lower())"
   ]
  },
  {
   "cell_type": "markdown",
   "id": "f295d98d-180b-423c-8237-2a0cba2d4bfd",
   "metadata": {},
   "source": [
    "Examplew 3.5."
   ]
  },
  {
   "cell_type": "code",
   "execution_count": 4,
   "id": "5f8fa57a-43e5-4a53-9d58-b6c284535a0d",
   "metadata": {},
   "outputs": [
    {
     "name": "stdout",
     "output_type": "stream",
     "text": [
      "Chris\n",
      "Kurt\n",
      "Samuel\n",
      "Alex\n"
     ]
    }
   ],
   "source": [
    "names = iter(list1)\n",
    "print(next(names))\n",
    "print(next(names))\n",
    "print(next(names))\n",
    "print(next(names))"
   ]
  },
  {
   "cell_type": "markdown",
   "id": "b7162f68-0c93-4ee4-8344-90cee9846364",
   "metadata": {},
   "source": [
    "Example 3.6."
   ]
  },
  {
   "cell_type": "code",
   "execution_count": 5,
   "id": "5aea66be-c663-4aaf-92db-c650e166e726",
   "metadata": {},
   "outputs": [
    {
     "name": "stdout",
     "output_type": "stream",
     "text": [
      "Chris\n",
      "Kurt\n",
      "Samuel\n",
      "Alex\n"
     ]
    }
   ],
   "source": [
    "for name in iter(list1):\n",
    "    print(name)"
   ]
  },
  {
   "cell_type": "markdown",
   "id": "de4d4e11-fce6-41c3-81f8-95fe5112c954",
   "metadata": {},
   "source": [
    "Example 3.7."
   ]
  },
  {
   "cell_type": "code",
   "execution_count": 6,
   "id": "559da24c-50e6-445d-b88e-499d94318bee",
   "metadata": {},
   "outputs": [
    {
     "name": "stdout",
     "output_type": "stream",
     "text": [
      "High Point 27262\n",
      "Charlottesville 22903\n",
      "Vereeniging 1935\n"
     ]
    }
   ],
   "source": [
    "cities = {\n",
    "    \"High Point\": 27262,\n",
    "    \"Charlottesville\": 22903,\n",
    "    \"Vereeniging\": 1935\n",
    "}\n",
    "\n",
    "for city, zip in cities.items():\n",
    "    print(city, zip)\n",
    "    \n"
   ]
  },
  {
   "cell_type": "markdown",
   "id": "973b032e-ee1d-47d1-aad9-8c14bd838e55",
   "metadata": {},
   "source": [
    "Example 3.8."
   ]
  },
  {
   "cell_type": "code",
   "execution_count": 8,
   "id": "37613444-42cd-4b03-b34e-e841590f4b37",
   "metadata": {},
   "outputs": [
    {
     "data": {
      "text/plain": [
       "[1, 8, 27, 64]"
      ]
     },
     "execution_count": 8,
     "metadata": {},
     "output_type": "execute_result"
    }
   ],
   "source": [
    "vals = [1, 2, 3, 4]\n",
    "cubes = [val ** 3 for val in vals]\n",
    "cubes"
   ]
  },
  {
   "cell_type": "markdown",
   "id": "c0203538-3f05-4069-a76f-e66daa520474",
   "metadata": {},
   "source": [
    "Example 3.9."
   ]
  },
  {
   "cell_type": "code",
   "execution_count": 9,
   "id": "daf41ef8-a3fb-46d4-9812-3cce2164ef90",
   "metadata": {},
   "outputs": [
    {
     "data": {
      "text/plain": [
       "['5', '6', '7']"
      ]
     },
     "execution_count": 9,
     "metadata": {},
     "output_type": "execute_result"
    }
   ],
   "source": [
    "list2 = [\"5\", \"Chris\", \"Kurt\", \"6\", \"7\", \"Hello\", \"Nice\"]\n",
    "digit = [val for val in list2 if val.isdigit()]\n",
    "digit"
   ]
  }
 ],
 "metadata": {
  "kernelspec": {
   "display_name": "Python 3 (ipykernel)",
   "language": "python",
   "name": "python3"
  },
  "language_info": {
   "codemirror_mode": {
    "name": "ipython",
    "version": 3
   },
   "file_extension": ".py",
   "mimetype": "text/x-python",
   "name": "python",
   "nbconvert_exporter": "python",
   "pygments_lexer": "ipython3",
   "version": "3.12.4"
  }
 },
 "nbformat": 4,
 "nbformat_minor": 5
}
